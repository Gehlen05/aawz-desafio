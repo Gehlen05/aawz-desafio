{
  "nbformat": 4,
  "nbformat_minor": 0,
  "metadata": {
    "colab": {
      "provenance": [],
      "include_colab_link": true
    },
    "kernelspec": {
      "name": "python3",
      "display_name": "Python 3"
    },
    "language_info": {
      "name": "python"
    }
  },
  "cells": [
    {
      "cell_type": "markdown",
      "metadata": {
        "id": "view-in-github",
        "colab_type": "text"
      },
      "source": [
        "<a href=\"https://colab.research.google.com/github/Gehlen05/aawz-desafio/blob/main/Live_Coding_Alex.ipynb\" target=\"_parent\"><img src=\"https://colab.research.google.com/assets/colab-badge.svg\" alt=\"Open In Colab\"/></a>"
      ]
    },
    {
      "cell_type": "code",
      "source": [
        "#@markdown ![\"AAWZ\"](https://aawz-algoritmo.s3.us-east-2.amazonaws.com/logo.png)\n",
        "\n",
        "#@markdown ---\n",
        "#@markdown # **Desafio**\n",
        "#@markdown ---\n",
        "#@markdown ## Seja bem-vindo(a) ao desafio da AAWZ. <br><br>O desafio consiste em uma simulação de integração de dados via api, com as devidas tratativas necessárias.\n",
        "#@markdown ---\n",
        "#@markdown ## **Documentação da API**:\n",
        "#@markdown ### URL raiz\n",
        "#@markdown A url raiz da api é dada por: <br> `https://dev.aawz.com.br/api/aawz-tests`\n",
        "#@markdown ### Login\n",
        "#@markdown Para se autenticar você deve enviar os campos 'username' e 'password' na requisição\n",
        "##@markdown Para se autenticar você deve enviar o usuário e senha no *header* Authorization, seguindo o padrão da <a href=\"https://en.wikipedia.org/wiki/Basic_access_authentication\" target=\"_blank\">HTTP Basic Authentication</a>. <br>  <br>\n",
        "##@markdown > *In the context of an HTTP transaction, basic access authentication is a method for an HTTP user agent (e.g. a web browser) to provide a user name and password when making a request. In basic HTTP authentication, a request contains a header field in the form of Authorization: Basic <credentials>, where credentials is the Base64 encoding of ID and password joined by a single colon :.*<br>\n",
        "\n",
        "#@markdown A rota de login é dada por: <br><br>`/login`<br>\n",
        "#@markdown Method: POST<br>Body Params: <br>\n",
        "#@markdown * username<br>\n",
        "#@markdown * password\n",
        "\n",
        "#@markdown Na resposta da rota, você receberá o access_token e o refresh_token para autenticação nas rotas que precisam estar autenticado. <br><br>\n",
        "#@markdown Para atualizar o token, use o refresh_token na rota: <br><br>Method: POST<br>`/refresh` <br><br>\n",
        "#@markdown Com excessão da rota de login, as rotas seguem o protocolo JWT, onde a Autorizacao será dada por `Authorization: Bearer <token>`\n",
        "#@markdown > Whenever the user wants to access a protected route or resource, the user agent should send the JWT, typically in the Authorization header using the Bearer schema. The content of the header should look like the following: <br><br>`Authorization: Bearer <token>`\n",
        "\n",
        "#@markdown ### **Rotas**\n",
        "#@markdown #### Perfil de risco\n",
        "#@markdown Rota para das composições estratégicas de cada perfil de risco:\n",
        "#@markdown <br><br>Method: GET<br>`/composition`<br><br>\n",
        "#@markdown #### **Clientes**\n",
        "#@markdown Rota para coleta dos clientes:\n",
        "#@markdown <br><br>Method: GET<br>`/clients`<br><br>\n",
        "#@markdown #### **Ativos**\n",
        "#@markdown Rota para coleta dos ativos e o valor atual aplicado em cada ativo de um cliente:\n",
        "#@markdown <br><br>Method: GET<br>`/client/<client_id>/assets`<br><br>\n",
        "#@markdown #### **Aporte/resgate**\n",
        "#@markdown Rota para coleta dos aportes/resgates de um ativo:\n",
        "#@markdown <br><br>Method: GET<br>`/client/<client_id>/assets/<asset_id>/financial_operations` <br><br>\n",
        "#@markdown #### **Cotação Histórica de ações**\n",
        "#@markdown Rota para coleta da cotação histórica de açoes*:\n",
        "#@markdown <br><br>Method: GET<br>`/stocks/<ticker>` <br><br>\n",
        "#@markdown *Somente estão disponíveis: WEGE3, ITUB3, PETR3, VALE3, MGLU3 <br><br>\n",
        "\n",
        "## @markdown -----\n",
        "## @markdown ## **Requisitos**\n",
        "## @markdown ### Como saída, deverá ser apresentado:\n",
        "## @markdown 1. Soma do P/L de todos os clientes, o P/L agrupado por classe e a % alocada em cada classe\n",
        "## @markdown 2. Soma do P/L de cada cliente , o P/L agrupado por classe e a % alocada em cada classe\n",
        "## @markdown 3. Calcular a rentabilidade, volatilidade e correlação das ações: WEGE3, ITUB3, PETR3, VALE3, MGLU3 \n",
        "## @markdown 4. **Bônus**: Com base nas composições dadas, definir o perfil real de cada cliente, com base nos ativos atuais\n",
        "#@markdown -----\n",
        "#@markdown ## **Conceitos**\n",
        "#@markdown 1. P/L -> Valor em R$ investido\n",
        "#@markdown 2. AuC -> Asset Under Custody (Ativos sob Custódia). Refere-se a soma dos investimentos dos clientes 'debaixo' de um profissional especifico.\n",
        "#@markdown 3. Classe -> Classe do ativo. Refere-se a uma forma de agrupar os ativos com comportamento e características semelhantes\n",
        "#@markdown 4. Perfil (de risco de clientes) -> Perfil de risco de investimento dos clientes. Refere-se a porcentagem dos investimentos dos clientes que devem ser alocadas em cada classe de investimento para seguir uma determinada exposição ao risco. Normalmente o cliente preenche um questionário para se descobrir qual o perfil do cliente.\n",
        "#@markdown 5. Composicao estrategica -> Quanto que deve ser aplicado (em %) em cada classe de ativos para um dado perfil de risco\n",
        "\n",
        "\n",
        "#@markdown -----\n",
        "#@markdown ## **Casos de uso**\n",
        "#@markdown 1. Como profissional, quero saber o total investido de cada cliente para conseguir monitorar o crescimento do meu AuC (Asset Under Custody - Ativos sob  custódia 'comigo')\n",
        "#@markdown 2. Como profissional quero saber o valor investido e a porcentagem alocada em cada classe (Renda Variável, RF Pós-Fixado, etc...) de cada cliente para saber como está a exposição ao risco de meus clientes\n",
        "#@markdown 3. Como profissional quero comparar o perfil do cliente com o perfil do cliente real (dado pela sua alocação atual), para saber se meus clientes estão ou não dentro do perfil adequado.<br> *(Para isso use a rota de composições para saber a alocação de cada perfil e, para cada cliente, encontre o perfil que está mais 'proximo' da alocação atual. **O conceito de distância fica a seu critério definir**).*\n",
        "#@markdown 4. **Bônus**: Construa um banco de dados para armazenar os ativos e as movimentações de cada cliente\n",
        "\n",
        "\n",
        "#@markdown \n",
        "\n",
        "\n",
        "#@markdown ---\n",
        "#@markdown ### **Algumas observações Importantes**:\n",
        "#@markdown 1. A apresentação dos dados deve ser da forma que você achar melhor, de modo que seja mais fácil a leitura e interpretação dos dados\n",
        "#@markdown 2. A **organização do código é fundamental**. Desenvolva o código como faria em um caso real.\n",
        "#@markdown 3. **Testes são imporatantes** Adicione testes unitários/funcionais/integração onde você achar importante, mas é necessário.\n",
        "#@markdown 4. Se não der tempo para finalizar tudo não tem problema. **É mais importante ter o código organizado e com testes do que ter tudo finalizado**. Queremos entender como você desenvolve o raciocínio para resolver um problema e como você coda.\n",
        "#@markdown 5. Pode pesquisar a vontade em qualquer lugar. Não queremos testar sua memória e sim sua capacidade de resolução de problema.\n",
        "\n",
        "\n",
        "\n",
        "\n",
        "\n",
        "\n",
        "\n",
        "\n",
        "\n",
        "\n",
        "\n",
        "\n"
      ],
      "metadata": {
        "cellView": "form",
        "id": "MUgK5qROW6MA"
      },
      "execution_count": null,
      "outputs": []
    },
    {
      "cell_type": "code",
      "source": [
        "#@markdown ![\"AAWZ\"](https://aawz-algoritmo.s3.us-east-2.amazonaws.com/logo.png)\n",
        "\n",
        "#@markdown ---\n",
        "#@markdown # **Desafio**\n",
        "#@markdown ---\n",
        "#@markdown ## Seja bem-vindo(a) ao desafio da AAWZ. <br><br>O desafio consiste em uma simulação de integração de dados via api, com as devidas tratativas necessárias.\n",
        "#@markdown ---\n",
        "#@markdown ## **Documentação da API**:\n",
        "#@markdown ### URL raiz\n",
        "#@markdown A url raiz da api é dada por: <br> `https://dev.aawz.com.br/api/aawz-tests`\n",
        "#@markdown ### Login\n",
        "#@markdown Para se autenticar você deve enviar os campos 'username' e 'password' na requisição\n",
        "##@markdown Para se autenticar você deve enviar o usuário e senha no *header* Authorization, seguindo o padrão da <a href=\"https://en.wikipedia.org/wiki/Basic_access_authentication\" target=\"_blank\">HTTP Basic Authentication</a>. <br>  <br>\n",
        "##@markdown > *In the context of an HTTP transaction, basic access authentication is a method for an HTTP user agent (e.g. a web browser) to provide a user name and password when making a request. In basic HTTP authentication, a request contains a header field in the form of Authorization: Basic <credentials>, where credentials is the Base64 encoding of ID and password joined by a single colon :.*<br>\n",
        "\n",
        "#@markdown A rota de login é dada por: <br><br>`/login`<br>\n",
        "#@markdown Method: POST<br>Body Params: <br>\n",
        "#@markdown * username<br>\n",
        "#@markdown * password\n",
        "\n",
        "#@markdown Na resposta da rota, você receberá o access_token e o refresh_token para autenticação nas rotas que precisam estar autenticado. <br><br>\n",
        "#@markdown Para atualizar o token, use o refresh_token na rota: <br><br>Method: POST<br>`/refresh` <br><br>\n",
        "#@markdown Com excessão da rota de login, as rotas seguem o protocolo JWT, onde a Autorizacao será dada por `Authorization: Bearer <token>`\n",
        "#@markdown > Whenever the user wants to access a protected route or resource, the user agent should send the JWT, typically in the Authorization header using the Bearer schema. The content of the header should look like the following: <br><br>`Authorization: Bearer <token>`\n",
        "\n",
        "#@markdown ### **Rotas**\n",
        "#@markdown #### Perfil de risco\n",
        "#@markdown Rota para das composições estratégicas de cada perfil de risco:\n",
        "#@markdown <br><br>Method: GET<br>`/composition`<br><br>\n",
        "#@markdown #### **Clientes**\n",
        "#@markdown Rota para coleta dos clientes:\n",
        "#@markdown <br><br>Method: GET<br>`/clients`<br><br>\n",
        "#@markdown #### **Ativos**\n",
        "#@markdown Rota para coleta dos ativos e o valor atual aplicado em cada ativo de um cliente:\n",
        "#@markdown <br><br>Method: GET<br>`/client/<client_id>/assets`<br><br>\n",
        "#@markdown #### **Aporte/resgate**\n",
        "#@markdown Rota para coleta dos aportes/resgates de um ativo:\n",
        "#@markdown <br><br>Method: GET<br>`/client/<client_id>/assets/<asset_id>/financial_operations` <br><br>\n",
        "#@markdown #### **Cotação Histórica de ações**\n",
        "#@markdown Rota para coleta da cotação histórica de açoes*:\n",
        "#@markdown <br><br>Method: GET<br>`/stocks/<ticker>` <br><br>\n",
        "#@markdown *Somente estão disponíveis: WEGE3, ITUB3, PETR3, VALE3, MGLU3 <br><br>\n",
        "\n",
        "## @markdown -----\n",
        "## @markdown ## **Requisitos**\n",
        "## @markdown ### Como saída, deverá ser apresentado:\n",
        "## @markdown 1. Soma do P/L de todos os clientes, o P/L agrupado por classe e a % alocada em cada classe\n",
        "## @markdown 2. Soma do P/L de cada cliente , o P/L agrupado por classe e a % alocada em cada classe\n",
        "## @markdown 3. Calcular a rentabilidade, volatilidade e correlação das ações: WEGE3, ITUB3, PETR3, VALE3, MGLU3 \n",
        "## @markdown 4. **Bônus**: Com base nas composições dadas, definir o perfil real de cada cliente, com base nos ativos atuais\n",
        "#@markdown -----\n",
        "#@markdown ## **Conceitos**\n",
        "#@markdown 1. P/L -> Valor em R$ investido\n",
        "#@markdown 2. AuC -> Asset Under Custody (Ativos sob Custódia). Refere-se a soma dos investimentos dos clientes 'debaixo' de um profissional especifico.\n",
        "#@markdown 3. Classe -> Classe do ativo. Refere-se a uma forma de agrupar os ativos com comportamento e características semelhantes\n",
        "#@markdown 4. Perfil (de risco de clientes) -> Perfil de risco de investimento dos clientes. Refere-se a porcentagem dos investimentos dos clientes que devem ser alocadas em cada classe de investimento para seguir uma determinada exposição ao risco. Normalmente o cliente preenche um questionário para se descobrir qual o perfil do cliente.\n",
        "#@markdown 5. Composicao estrategica -> Quanto que deve ser aplicado (em %) em cada classe de ativos para um dado perfil de risco\n",
        "\n",
        "\n",
        "#@markdown -----\n",
        "#@markdown ## **Casos de uso**\n",
        "#@markdown 1. Como profissional, quero saber o total investido de cada cliente para conseguir monitorar o crescimento do meu AuC (Asset Under Custody - Ativos sob  custódia 'comigo')\n",
        "#@markdown 2. Como profissional quero saber o valor investido e a porcentagem alocada em cada classe (Renda Variável, RF Pós-Fixado, etc...) de cada cliente para saber como está a exposição ao risco de meus clientes\n",
        "#@markdown 3. Como profissional quero comparar o perfil do cliente com o perfil do cliente real (dado pela sua alocação atual), para saber se meus clientes estão ou não dentro do perfil adequado.<br> *(Para isso use a rota de composições para saber a alocação de cada perfil e, para cada cliente, encontre o perfil que está mais 'proximo' da alocação atual. **O conceito de distância fica a seu critério definir**).*\n",
        "#@markdown 4. **Bônus**: Construa um banco de dados para armazenar os ativos e as movimentações de cada cliente\n",
        "\n",
        "\n",
        "#@markdown \n",
        "\n",
        "\n",
        "#@markdown ---\n",
        "#@markdown ### **Algumas observações Importantes**:\n",
        "#@markdown 1. A apresentação dos dados deve ser da forma que você achar melhor, de modo que seja mais fácil a leitura e interpretação dos dados\n",
        "#@markdown 2. A **organização do código é fundamental**. Desenvolva o código como faria em um caso real.\n",
        "#@markdown 3. **Testes são imporatantes** Adicione testes unitários/funcionais/integração onde você achar importante, mas é necessário.\n",
        "#@markdown 4. Se não der tempo para finalizar tudo não tem problema. **É mais importante ter o código organizado e com testes do que ter tudo finalizado**. Queremos entender como você desenvolve o raciocínio para resolver um problema e como você coda.\n",
        "#@markdown 5. Pode pesquisar a vontade em qualquer lugar. Não queremos testar sua memória e sim sua capacidade de resolução de problema.\n",
        "\n",
        "\n",
        "\n",
        "\n",
        "\n",
        "\n",
        "\n",
        "\n",
        "\n",
        "\n",
        "\n",
        "\n"
      ],
      "metadata": {
        "id": "RoiZ6Ap9ire0",
        "cellView": "form"
      },
      "execution_count": null,
      "outputs": []
    },
    {
      "cell_type": "code",
      "source": [
        "import requests\n",
        "import json\n",
        "import pandas as pd"
      ],
      "metadata": {
        "id": "JZC0H03VMYL_"
      },
      "execution_count": 59,
      "outputs": []
    },
    {
      "cell_type": "code",
      "source": [
        "data = { \"username\" : \"user1\",\n",
        "          \"password\" : \"G+WRl2YXZ47TL+SxW/5tDZljggS4kXtQRH7CXLKNiLWptj6A\"}\n",
        "# headers = {'Authorization': f'Bearer {auth_token}'}\n"
      ],
      "metadata": {
        "id": "PmIVP0H80mTr"
      },
      "execution_count": 50,
      "outputs": []
    },
    {
      "cell_type": "code",
      "source": [
        "link = \"https://dev.aawz.com.br/api/aawz-tests\"\n",
        "r = requests.post(f'{link}/login', json=data)\n",
        "auth_token = r.json()['access_token']\n"
      ],
      "metadata": {
        "id": "_Q06scdg0l55"
      },
      "execution_count": 66,
      "outputs": []
    },
    {
      "cell_type": "code",
      "source": [
        "headers = {'Authorization': f'Bearer {auth_token}'}"
      ],
      "metadata": {
        "id": "vy2Uc9RRUNz7"
      },
      "execution_count": 67,
      "outputs": []
    },
    {
      "cell_type": "code",
      "source": [
        "r = requests.post(f'{link}/login', json=data, headers=headers)\n",
        "r"
      ],
      "metadata": {
        "colab": {
          "base_uri": "https://localhost:8080/"
        },
        "id": "WscodAFDUnZ-",
        "outputId": "00970602-4f7f-4eea-eebc-0166ede79077"
      },
      "execution_count": 68,
      "outputs": [
        {
          "output_type": "execute_result",
          "data": {
            "text/plain": [
              "<Response [200]>"
            ]
          },
          "metadata": {},
          "execution_count": 68
        }
      ]
    },
    {
      "cell_type": "code",
      "source": [
        "clients = requests.get(f'{link}/clients', headers=headers)\n",
        "todos = json.loads(clients.content)\n",
        "entrada = json.dumps(todos)"
      ],
      "metadata": {
        "id": "kamZI_rnOB-j"
      },
      "execution_count": 61,
      "outputs": []
    },
    {
      "cell_type": "code",
      "source": [
        "composition = requests.get(f'{link}/composition', headers=headers)\n",
        "composition = json.loads(composition.content)\n",
        "composition"
      ],
      "metadata": {
        "colab": {
          "base_uri": "https://localhost:8080/"
        },
        "id": "4h2vnDm6ZWsM",
        "outputId": "e8b5f203-c50c-478f-a144-7fe6181a9b87"
      },
      "execution_count": 69,
      "outputs": [
        {
          "output_type": "execute_result",
          "data": {
            "text/plain": [
              "[{'nome': 'Conservador',\n",
              "  'COE': 0.0,\n",
              "  'Fundo de Previdência': 0.0,\n",
              "  'Internacional': 1.5,\n",
              "  'Multimercado': 10.0,\n",
              "  'Alternativos': 0.0,\n",
              "  'RF IGP-M': 0.0,\n",
              "  'RF Inflação': 5.0,\n",
              "  'RF Pré-Fixado': 1.0,\n",
              "  'RF Pós-Fixado': 82.5,\n",
              "  'Renda Variável': 0.0,\n",
              "  'Fundo Imobiliário': None},\n",
              " {'nome': 'Moderado',\n",
              "  'COE': 0.0,\n",
              "  'Fundo de Previdência': 0.0,\n",
              "  'Internacional': 15.0,\n",
              "  'Multimercado': 28.5,\n",
              "  'Alternativos': 0.0,\n",
              "  'RF IGP-M': 0.0,\n",
              "  'RF Inflação': 7.5,\n",
              "  'RF Pré-Fixado': 5.0,\n",
              "  'RF Pós-Fixado': 29.0,\n",
              "  'Renda Variável': 15.0,\n",
              "  'Fundo Imobiliário': None},\n",
              " {'nome': 'Agressivo',\n",
              "  'COE': 0.0,\n",
              "  'Fundo de Previdência': 0.0,\n",
              "  'Internacional': 15.0,\n",
              "  'Multimercado': 2.5,\n",
              "  'Alternativos': 0.0,\n",
              "  'RF IGP-M': 0.0,\n",
              "  'RF Inflação': 7.5,\n",
              "  'RF Pré-Fixado': 0.0,\n",
              "  'RF Pós-Fixado': 0.0,\n",
              "  'Renda Variável': 75.0,\n",
              "  'Fundo Imobiliário': None}]"
            ]
          },
          "metadata": {},
          "execution_count": 69
        }
      ]
    },
    {
      "cell_type": "code",
      "source": [
        "df = pd.read_json(entrada)\n",
        "df.head()"
      ],
      "metadata": {
        "colab": {
          "base_uri": "https://localhost:8080/",
          "height": 206
        },
        "id": "nIqEDUyxY1by",
        "outputId": "8cb2c8ed-b427-4151-813c-2dd0890cad43"
      },
      "execution_count": 63,
      "outputs": [
        {
          "output_type": "execute_result",
          "data": {
            "text/plain": [
              "                                    _id   nome_cliente       perfil\n",
              "0  e418dc62-e927-4613-9eca-1918c44c3c49     Cliente 71         None\n",
              "1  e8c066fc-f3bc-408b-8a94-dd401089e2b0   Cliente 6515         None\n",
              "2  e5f652a5-85f5-44ef-8626-eca6f61ac720  Cliente 11853  Conservador\n",
              "3  d483bec1-8313-444f-9276-23fd66884c3c  Cliente 12206    Agressivo\n",
              "4  e56e8f80-ebfb-43bd-8209-5a803afa25ec  Cliente 12152         None"
            ],
            "text/html": [
              "\n",
              "  <div id=\"df-b31f0364-9a8b-4b05-9293-354b6810c80e\">\n",
              "    <div class=\"colab-df-container\">\n",
              "      <div>\n",
              "<style scoped>\n",
              "    .dataframe tbody tr th:only-of-type {\n",
              "        vertical-align: middle;\n",
              "    }\n",
              "\n",
              "    .dataframe tbody tr th {\n",
              "        vertical-align: top;\n",
              "    }\n",
              "\n",
              "    .dataframe thead th {\n",
              "        text-align: right;\n",
              "    }\n",
              "</style>\n",
              "<table border=\"1\" class=\"dataframe\">\n",
              "  <thead>\n",
              "    <tr style=\"text-align: right;\">\n",
              "      <th></th>\n",
              "      <th>_id</th>\n",
              "      <th>nome_cliente</th>\n",
              "      <th>perfil</th>\n",
              "    </tr>\n",
              "  </thead>\n",
              "  <tbody>\n",
              "    <tr>\n",
              "      <th>0</th>\n",
              "      <td>e418dc62-e927-4613-9eca-1918c44c3c49</td>\n",
              "      <td>Cliente 71</td>\n",
              "      <td>None</td>\n",
              "    </tr>\n",
              "    <tr>\n",
              "      <th>1</th>\n",
              "      <td>e8c066fc-f3bc-408b-8a94-dd401089e2b0</td>\n",
              "      <td>Cliente 6515</td>\n",
              "      <td>None</td>\n",
              "    </tr>\n",
              "    <tr>\n",
              "      <th>2</th>\n",
              "      <td>e5f652a5-85f5-44ef-8626-eca6f61ac720</td>\n",
              "      <td>Cliente 11853</td>\n",
              "      <td>Conservador</td>\n",
              "    </tr>\n",
              "    <tr>\n",
              "      <th>3</th>\n",
              "      <td>d483bec1-8313-444f-9276-23fd66884c3c</td>\n",
              "      <td>Cliente 12206</td>\n",
              "      <td>Agressivo</td>\n",
              "    </tr>\n",
              "    <tr>\n",
              "      <th>4</th>\n",
              "      <td>e56e8f80-ebfb-43bd-8209-5a803afa25ec</td>\n",
              "      <td>Cliente 12152</td>\n",
              "      <td>None</td>\n",
              "    </tr>\n",
              "  </tbody>\n",
              "</table>\n",
              "</div>\n",
              "      <button class=\"colab-df-convert\" onclick=\"convertToInteractive('df-b31f0364-9a8b-4b05-9293-354b6810c80e')\"\n",
              "              title=\"Convert this dataframe to an interactive table.\"\n",
              "              style=\"display:none;\">\n",
              "        \n",
              "  <svg xmlns=\"http://www.w3.org/2000/svg\" height=\"24px\"viewBox=\"0 0 24 24\"\n",
              "       width=\"24px\">\n",
              "    <path d=\"M0 0h24v24H0V0z\" fill=\"none\"/>\n",
              "    <path d=\"M18.56 5.44l.94 2.06.94-2.06 2.06-.94-2.06-.94-.94-2.06-.94 2.06-2.06.94zm-11 1L8.5 8.5l.94-2.06 2.06-.94-2.06-.94L8.5 2.5l-.94 2.06-2.06.94zm10 10l.94 2.06.94-2.06 2.06-.94-2.06-.94-.94-2.06-.94 2.06-2.06.94z\"/><path d=\"M17.41 7.96l-1.37-1.37c-.4-.4-.92-.59-1.43-.59-.52 0-1.04.2-1.43.59L10.3 9.45l-7.72 7.72c-.78.78-.78 2.05 0 2.83L4 21.41c.39.39.9.59 1.41.59.51 0 1.02-.2 1.41-.59l7.78-7.78 2.81-2.81c.8-.78.8-2.07 0-2.86zM5.41 20L4 18.59l7.72-7.72 1.47 1.35L5.41 20z\"/>\n",
              "  </svg>\n",
              "      </button>\n",
              "      \n",
              "  <style>\n",
              "    .colab-df-container {\n",
              "      display:flex;\n",
              "      flex-wrap:wrap;\n",
              "      gap: 12px;\n",
              "    }\n",
              "\n",
              "    .colab-df-convert {\n",
              "      background-color: #E8F0FE;\n",
              "      border: none;\n",
              "      border-radius: 50%;\n",
              "      cursor: pointer;\n",
              "      display: none;\n",
              "      fill: #1967D2;\n",
              "      height: 32px;\n",
              "      padding: 0 0 0 0;\n",
              "      width: 32px;\n",
              "    }\n",
              "\n",
              "    .colab-df-convert:hover {\n",
              "      background-color: #E2EBFA;\n",
              "      box-shadow: 0px 1px 2px rgba(60, 64, 67, 0.3), 0px 1px 3px 1px rgba(60, 64, 67, 0.15);\n",
              "      fill: #174EA6;\n",
              "    }\n",
              "\n",
              "    [theme=dark] .colab-df-convert {\n",
              "      background-color: #3B4455;\n",
              "      fill: #D2E3FC;\n",
              "    }\n",
              "\n",
              "    [theme=dark] .colab-df-convert:hover {\n",
              "      background-color: #434B5C;\n",
              "      box-shadow: 0px 1px 3px 1px rgba(0, 0, 0, 0.15);\n",
              "      filter: drop-shadow(0px 1px 2px rgba(0, 0, 0, 0.3));\n",
              "      fill: #FFFFFF;\n",
              "    }\n",
              "  </style>\n",
              "\n",
              "      <script>\n",
              "        const buttonEl =\n",
              "          document.querySelector('#df-b31f0364-9a8b-4b05-9293-354b6810c80e button.colab-df-convert');\n",
              "        buttonEl.style.display =\n",
              "          google.colab.kernel.accessAllowed ? 'block' : 'none';\n",
              "\n",
              "        async function convertToInteractive(key) {\n",
              "          const element = document.querySelector('#df-b31f0364-9a8b-4b05-9293-354b6810c80e');\n",
              "          const dataTable =\n",
              "            await google.colab.kernel.invokeFunction('convertToInteractive',\n",
              "                                                     [key], {});\n",
              "          if (!dataTable) return;\n",
              "\n",
              "          const docLinkHtml = 'Like what you see? Visit the ' +\n",
              "            '<a target=\"_blank\" href=https://colab.research.google.com/notebooks/data_table.ipynb>data table notebook</a>'\n",
              "            + ' to learn more about interactive tables.';\n",
              "          element.innerHTML = '';\n",
              "          dataTable['output_type'] = 'display_data';\n",
              "          await google.colab.output.renderOutput(dataTable, element);\n",
              "          const docLink = document.createElement('div');\n",
              "          docLink.innerHTML = docLinkHtml;\n",
              "          element.appendChild(docLink);\n",
              "        }\n",
              "      </script>\n",
              "    </div>\n",
              "  </div>\n",
              "  "
            ]
          },
          "metadata": {},
          "execution_count": 63
        }
      ]
    }
  ]
}